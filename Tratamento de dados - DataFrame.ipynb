{
 "cells": [
  {
   "cell_type": "code",
   "execution_count": 12,
   "metadata": {
    "scrolled": false
   },
   "outputs": [
    {
     "name": "stdout",
     "output_type": "stream",
     "text": [
      "     ID Funcionário  ID Cliente  Tempo Total de Contrato (Meses)  \\\n",
      "0                67           1                               14   \n",
      "1                67          78                                6   \n",
      "2                67         125                                8   \n",
      "3                67         175                                6   \n",
      "4                17           2                               12   \n",
      "..              ...         ...                              ...   \n",
      "232              25         304                               14   \n",
      "233              79         308                               10   \n",
      "234              99         309                                8   \n",
      "235              14         310                               12   \n",
      "236              72         317                                6   \n",
      "\n",
      "     Valor Contrato Mensal  Salario Base  Impostos  Beneficios   VT      VR  \\\n",
      "0                      540         12054    6027.0      2410.8  308  829.92   \n",
      "1                     1710         12054    6027.0      2410.8  308  829.92   \n",
      "2                     1710         12054    6027.0      2410.8  308  829.92   \n",
      "3                      945         12054    6027.0      2410.8  308  829.92   \n",
      "4                     1260         15718    7859.0      3143.6  176  628.32   \n",
      "..                     ...           ...       ...         ...  ...     ...   \n",
      "232                    810         23612   11806.0      4722.4  264  561.12   \n",
      "233                   1935         17207    8603.5      3441.4  198  688.80   \n",
      "234                   3735         18763    9381.5      3752.6  154  692.16   \n",
      "235                   3735          2182    1091.0       436.4  220  604.80   \n",
      "236                   2385         11867    5933.5      2373.4  264  524.16   \n",
      "\n",
      "               Area  \n",
      "0        Financeiro  \n",
      "1        Financeiro  \n",
      "2        Financeiro  \n",
      "3        Financeiro  \n",
      "4         Logística  \n",
      "..              ...  \n",
      "232  Administrativo  \n",
      "233       Operações  \n",
      "234  Administrativo  \n",
      "235      Financeiro  \n",
      "236       Logística  \n",
      "\n",
      "[237 rows x 10 columns]\n",
      "----------------------------------------------------------------------------------------------------\n",
      "     ID Funcionário  ID Cliente  Tempo Total de Contrato (Meses)\n",
      "0                67           1                               14\n",
      "1                17           2                               12\n",
      "2               116           4                               14\n",
      "3                37           5                                8\n",
      "4               130           6                                8\n",
      "..              ...         ...                              ...\n",
      "232             111         315                                4\n",
      "233             124         316                                8\n",
      "234              72         317                                6\n",
      "235              90         319                               14\n",
      "236              22         320                               12\n",
      "\n",
      "[237 rows x 3 columns]\n",
      "----------------------------------------------------------------------------------------------------\n",
      "     ID Cliente  Valor Contrato Mensal\n",
      "0             1                    540\n",
      "1             2                   1260\n",
      "2             3                   3195\n",
      "3             4                   2520\n",
      "4             5                   3510\n",
      "..          ...                    ...\n",
      "315         316                   3690\n",
      "316         317                   2385\n",
      "317         318                   3510\n",
      "318         319                   4185\n",
      "319         320                   2430\n",
      "\n",
      "[320 rows x 2 columns]\n",
      "----------------------------------------------------------------------------------------------------\n",
      "     ID Funcionário  Salario Base  Impostos  Beneficios   VT      VR  \\\n",
      "0                 1         21910   10955.0      4382.0  242  719.04   \n",
      "1                 2          5404    2702.0      1080.8  154  574.56   \n",
      "2                 3         16066    8033.0      3213.2  154  729.12   \n",
      "3                 4         21305   10652.5      4261.0  220  524.16   \n",
      "4                 5          5098    2549.0      1019.6  176  725.76   \n",
      "..              ...           ...       ...         ...  ...     ...   \n",
      "109             143         10793    5396.5      2158.6  242  514.08   \n",
      "110             144          4048    2024.0       809.6  198  796.32   \n",
      "111             148         24596   12298.0      4919.2  242  561.12   \n",
      "112             149          5078    2539.0      1015.6  308  665.28   \n",
      "113             150         15939    7969.5      3187.8  220  769.44   \n",
      "\n",
      "               Area  \n",
      "0         Operações  \n",
      "1         Logística  \n",
      "2    Administrativo  \n",
      "3    Administrativo  \n",
      "4    Administrativo  \n",
      "..              ...  \n",
      "109       Logística  \n",
      "110       Comercial  \n",
      "111  Administrativo  \n",
      "112       Comercial  \n",
      "113       Comercial  \n",
      "\n",
      "[114 rows x 7 columns]\n"
     ]
    }
   ],
   "source": [
    "# Importando biblioteca\n",
    "import pandas as pd\n",
    "\n",
    "# Importando tabelas\n",
    "cadastros_clientes_df = pd.read_csv('CadastroClientes.csv', sep = ';')\n",
    "cadastros_funcionarios_df = pd.read_csv('CadastroFuncionarios.csv', sep = ';', decimal = ',')\n",
    "servicos_df = pd.read_csv('BaseServiçosPrestados.xlsx - Plan1.csv')\n",
    "\n",
    "# Removendo algumas colunas\n",
    "cadastros_clientes_df = cadastros_clientes_df.drop(['Cliente'], axis = 1)\n",
    "cadastros_funcionarios_df = cadastros_funcionarios_df.drop(['Estado Civil', 'Nome Completo', 'Cargo'], axis = 1)\n",
    "servicos_df = servicos_df.drop(['Codigo do Servico'], axis = 1)\n",
    "\n",
    "# Mesclando todas as tabelas em uma nova\n",
    "cadastros_servicos = servicos_df\n",
    "cadastros_servicos = cadastros_servicos.merge(cadastros_clientes_df, on = 'ID Cliente')\n",
    "cadastros_servicos = cadastros_servicos.merge(cadastros_funcionarios_df, on = 'ID Funcionário')\n",
    "\n",
    "# Mostrando todas as tabelas\n",
    "print(cadastros_servicos)\n",
    "print('-'*100)\n",
    "print(servicos_df)\n",
    "print('-'*100)\n",
    "print(cadastros_clientes_df)\n",
    "print('-'*100)\n",
    "print(cadastros_funcionarios_df)\n"
   ]
  },
  {
   "cell_type": "code",
   "execution_count": 2,
   "metadata": {},
   "outputs": [
    {
     "name": "stdout",
     "output_type": "stream",
     "text": [
      "A soma do salário de todos os funcionários da empresa é R$3,183,152\n"
     ]
    }
   ],
   "source": [
    "# Calculando o a soma de todos os salários\n",
    "salario_total = cadastros_servicos['Salario Base'].sum()\n",
    "print(f'A soma do salário de todos os funcionários da empresa é R${salario_total:,}')\n"
   ]
  },
  {
   "cell_type": "code",
   "execution_count": 3,
   "metadata": {},
   "outputs": [
    {
     "name": "stdout",
     "output_type": "stream",
     "text": [
      "O faturamento total da empresa foi de R$5519160.00\n"
     ]
    }
   ],
   "source": [
    "# Calculando o faturamento total\n",
    "faturamento_total = 0\n",
    "for i, valor in enumerate(cadastros_servicos['Valor Contrato Mensal']):\n",
    "    faturamento_servico = cadastros_servicos['Tempo Total de Contrato (Meses)'][i] * valor\n",
    "    faturamento_total += faturamento_servico\n",
    "\n",
    "print(f'O faturamento total da empresa foi de R${faturamento_total:.2f}')\n"
   ]
  },
  {
   "cell_type": "code",
   "execution_count": 5,
   "metadata": {},
   "outputs": [
    {
     "name": "stdout",
     "output_type": "stream",
     "text": [
      "86.84% dos funcionários realizaram algum contrato.\n"
     ]
    }
   ],
   "source": [
    "# Calculando a porcentagem de funcionários que realizaram algum contrato\n",
    "funcionarios1 = len(cadastros_funcionarios_df['ID Funcionário'])\n",
    "funcionarios2 = len(servicos_df['ID Funcionário'].unique())\n",
    "funcionarios_contrato = funcionarios2 / funcionarios1\n",
    "print(f'{funcionarios_contrato:.2%} dos funcionários realizaram algum contrato.')\n"
   ]
  },
  {
   "cell_type": "code",
   "execution_count": 26,
   "metadata": {},
   "outputs": [
    {
     "name": "stdout",
     "output_type": "stream",
     "text": [
      "Áreas de serviços: ['Financeiro', 'Logística', 'Comercial', 'Administrativo', 'Operações']\n",
      "O número de contratos na área Financeiro é de 42\n",
      "O número de contratos na área Logística é de 40\n",
      "O número de contratos na área Comercial é de 44\n",
      "O número de contratos na área Administrativo é de 63\n",
      "O número de contratos na área Operações é de 48\n"
     ]
    }
   ],
   "source": [
    "# Calculando o número de contratos por área\n",
    "total_areas = []\n",
    "\n",
    "# Verificando todas as áreas\n",
    "for area in cadastros_servicos['Area']:\n",
    "    \n",
    "    if not area in total_areas:\n",
    "        total_areas.append(area)\n",
    "        \n",
    "print(f'Áreas de serviços: {total_areas}')\n",
    "\n",
    "# Verificando todos os contratos na respectiva área\n",
    "for area in (total_areas):\n",
    "    contratos_area = cadastros_servicos[cadastros_servicos['Area'] == area]\n",
    "    print(f'O número de contratos na área {area} é de {len(contratos_area)}')\n",
    "    "
   ]
  },
  {
   "cell_type": "code",
   "execution_count": 27,
   "metadata": {},
   "outputs": [
    {
     "name": "stdout",
     "output_type": "stream",
     "text": [
      "     ID Funcionário            Area\n",
      "0                67      Financeiro\n",
      "1                67      Financeiro\n",
      "2                67      Financeiro\n",
      "3                67      Financeiro\n",
      "4                17       Logística\n",
      "..              ...             ...\n",
      "232              25  Administrativo\n",
      "233              79       Operações\n",
      "234              99  Administrativo\n",
      "235              14      Financeiro\n",
      "236              72       Logística\n",
      "\n",
      "[237 rows x 2 columns]\n",
      "AxesSubplot(0.125,0.11;0.775x0.77)\n"
     ]
    },
    {
     "data": {
      "image/png": "[encoded data removed]",
      "text/plain": [
       "<Figure size 640x480 with 1 Axes>"
      ]
     },
     "metadata": {},
     "output_type": "display_data"
    }
   ],
   "source": [
    "# Calculando o número de contratos por área\n",
    "# Criando um DataFrame com as vezes que funcionários fizeram algum contrato \n",
    "contratos_area_df = servicos_df[['ID Funcionário']].merge(cadastros_funcionarios_df[['ID Funcionário', 'Area']], on = 'ID Funcionário')\n",
    "\n",
    "# Contando a quantidade de valores únicos\n",
    "contratos_area = contratos_area_df['Area'].value_counts()\n",
    "\n",
    "# Mostrando as informações\n",
    "print(contratos_area_df)\n",
    "print(contratos_area.plot(kind = 'line'))\n"
   ]
  },
  {
   "cell_type": "code",
   "execution_count": 8,
   "metadata": {},
   "outputs": [
    {
     "data": {
      "text/plain": [
       "<AxesSubplot:>"
      ]
     },
     "metadata": {},
     "output_type": "display_data"
    },
    {
     "data": {
      "image/png": "[encoded data removed]",
      "text/plain": [
       "<Figure size 640x480 with 1 Axes>"
      ]
     },
     "metadata": {},
     "output_type": "display_data"
    }
   ],
   "source": [
    "# Calcular quantos funcionários em cada área\n",
    "funcionarios_area = cadastros_funcionarios_df['Area'].value_counts()\n",
    "display(funcionarios_area.plot(kind = 'barh'))\n"
   ]
  },
  {
   "cell_type": "code",
   "execution_count": 9,
   "metadata": {},
   "outputs": [
    {
     "name": "stdout",
     "output_type": "stream",
     "text": [
      "O faturamento mensal médio é de R$2,502.56\n"
     ]
    }
   ],
   "source": [
    "# Calculando a média do faturamento mensal\n",
    "faturamento_mensal_medio = cadastros_clientes_df['Valor Contrato Mensal'].mean()\n",
    "print(f'O faturamento mensal médio é de R${faturamento_mensal_medio:,.2f}')"
   ]
  }
 ],
 "metadata": {
  "kernelspec": {
   "display_name": "Python 3 (ipykernel)",
   "language": "python",
   "name": "python3"
  },
  "language_info": {
   "codemirror_mode": {
    "name": "ipython",
    "version": 3
   },
   "file_extension": ".py",
   "mimetype": "text/x-python",
   "name": "python",
   "nbconvert_exporter": "python",
   "pygments_lexer": "ipython3",
   "version": "3.9.13"
  }
 },
 "nbformat": 4,
 "nbformat_minor": 4
}
